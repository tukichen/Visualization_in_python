{
 "cells": [
  {
   "cell_type": "markdown",
   "metadata": {},
   "source": []
  },
  {
   "cell_type": "code",
   "execution_count": 5,
   "metadata": {},
   "outputs": [],
   "source": [
    "import math\n",
    "import matplotlib.pyplot as plt\n",
    "%matplotlib inline"
   ]
  },
  {
   "cell_type": "markdown",
   "metadata": {},
   "source": [
    "### Code to plot a function"
   ]
  },
  {
   "cell_type": "code",
   "execution_count": 13,
   "metadata": {},
   "outputs": [
    {
     "data": {
      "image/png": "[encoded data removed]",
      "text/plain": [
       "<matplotlib.figure.Figure at 0x110fa94e0>"
      ]
     },
     "metadata": {},
     "output_type": "display_data"
    }
   ],
   "source": [
    "def plot_function_curve(function ,  function_name, min_x, max_x ):\n",
    "    x = [float(i)/100.0 for i in range(int(min_x*100), int(max_x*100))]\n",
    "    y = [function(i) for i in x]\n",
    "    plt.plot(x, y, 'r-', linewidth= 3, label='log Curve')\n",
    "    a = [x[20], x[175]]\n",
    "    b = [y[20],  y[175]]\n",
    "    plt.plot(a, b, 'g-', linewidth = 2)\n",
    "    plt.plot(a, b, 'b*', markersize = 15, alpha = 0.75)\n",
    "    plt.legend(loc= 'upper left')\n",
    "    plt.grid(True)\n",
    "    plt.xlabel('X')\n",
    "    plt.ylabel( function_name)\n",
    "    plt.show()\n",
    "\n",
    "plot_function_curve(function = math.log, function_name = 'log(X)', min_x= 0.01, max_x = 3.0)"
   ]
  },
  {
   "cell_type": "code",
   "execution_count": null,
   "metadata": {
    "collapsed": true
   },
   "outputs": [],
   "source": []
  },
  {
   "cell_type": "code",
   "execution_count": null,
   "metadata": {
    "collapsed": true
   },
   "outputs": [],
   "source": []
  },
  {
   "cell_type": "code",
   "execution_count": null,
   "metadata": {
    "collapsed": true
   },
   "outputs": [],
   "source": []
  }
 ],
 "metadata": {
  "kernelspec": {
   "display_name": "Python 3",
   "language": "python",
   "name": "python3"
  },
  "language_info": {
   "codemirror_mode": {
    "name": "ipython",
    "version": 3
   },
   "file_extension": ".py",
   "mimetype": "text/x-python",
   "name": "python",
   "nbconvert_exporter": "python",
   "pygments_lexer": "ipython3",
   "version": "3.6.2"
  }
 },
 "nbformat": 4,
 "nbformat_minor": 2
}
